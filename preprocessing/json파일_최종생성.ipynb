{
 "cells": [
  {
   "cell_type": "code",
   "execution_count": 1,
   "metadata": {},
   "outputs": [],
   "source": [
    "import os\n",
    "import json\n",
    "from glob import glob\n",
    "import re"
   ]
  },
  {
   "cell_type": "code",
   "execution_count": 2,
   "metadata": {},
   "outputs": [],
   "source": [
    "json_list = glob(\"../data/*.json\")"
   ]
  },
  {
   "cell_type": "code",
   "execution_count": 3,
   "metadata": {
    "scrolled": true
   },
   "outputs": [
    {
     "data": {
      "text/plain": [
       "['../data\\\\real_final_amusement_token.json',\n",
       " '../data\\\\real_final_beach_token.json',\n",
       " '../data\\\\real_final_cave_token.json',\n",
       " '../data\\\\real_final_island_token.json',\n",
       " '../data\\\\real_final_lake_token.json',\n",
       " '../data\\\\real_final_mountain_token.json',\n",
       " '../data\\\\real_final_palace_token.json',\n",
       " '../data\\\\real_final_park_token.json',\n",
       " '../data\\\\real_final_restaurant_token.json',\n",
       " '../data\\\\real_final_tower_token.json']"
      ]
     },
     "execution_count": 3,
     "metadata": {},
     "output_type": "execute_result"
    }
   ],
   "source": [
    "json_list"
   ]
  },
  {
   "cell_type": "markdown",
   "metadata": {},
   "source": [
    "## 각 카테고리 별 최종파일 생성"
   ]
  },
  {
   "cell_type": "code",
   "execution_count": 4,
   "metadata": {},
   "outputs": [],
   "source": [
    "def doit(j):\n",
    "    with open(j, encoding='UTF-8') as f:\n",
    "        js_tower = json.load(f)\n",
    "    texts = []\n",
    "    for i in js_tower:\n",
    "        texts.append(i['text'])\n",
    "        \n",
    "        \n",
    "    tower_text = []\n",
    "    for idx in range(len(texts)):\n",
    "#         if idx % 100 == 0:\n",
    "#               print(idx)\n",
    "    # title = [\"[CLS]\"] + ttk[idx] + [\"[SEP]\"]\n",
    "\n",
    "        ctk_list = []\n",
    "        for c in texts[idx]:\n",
    "            if c[0] == None:\n",
    "                continue\n",
    "            contents = [\"[CLS]\"] + c + [\"[SEP]\"]\n",
    "            ctk_list += [\" \".join(contents)]\n",
    "        tower_text.append(\" \".join(ctk_list) + \"\\n\")\n",
    "        \n",
    "    trg_arr = []\n",
    "    trg_lens = []\n",
    "    arr = tower_text[0][:-1]\n",
    "    dabs = re.split('\\s', arr)\n",
    "    dabs = list(filter(None, dabs)) + ['[STOP]']\n",
    "    trg_lens.append(len(dabs))\n",
    "\n",
    "    for i in range(len(tower_text)):\n",
    "        js_tower[i]['text'] = tower_text[i]\n",
    "    \n",
    "    return js_tower"
   ]
  },
  {
   "cell_type": "code",
   "execution_count": 5,
   "metadata": {
    "scrolled": true
   },
   "outputs": [
    {
     "name": "stdout",
     "output_type": "stream",
     "text": [
      "0 ../data\\real_final_amusement_token.json\n",
      "1 ../data\\real_final_beach_token.json\n",
      "2 ../data\\real_final_cave_token.json\n",
      "3 ../data\\real_final_island_token.json\n",
      "4 ../data\\real_final_lake_token.json\n",
      "5 ../data\\real_final_mountain_token.json\n",
      "6 ../data\\real_final_palace_token.json\n",
      "7 ../data\\real_final_park_token.json\n",
      "8 ../data\\real_final_restaurant_token.json\n",
      "9 ../data\\real_final_tower_token.json\n"
     ]
    }
   ],
   "source": [
    "json_files = []\n",
    "for i, j in enumerate(json_list):\n",
    "    print(i, j)\n",
    "    json_file = doit(j)\n",
    "    \n",
    "    spj = j.split(\"\\\\\")\n",
    "    path = spj[0]+ \"\\\\\\\\\"+\"after_\" + spj[1]\n",
    "    \n",
    "    json_files.append((j, json_file))\n",
    "    with open(path, 'w', encoding='utf-16') as make_file:\n",
    "        json.dump(json_file, make_file, indent=\"\\t\", ensure_ascii=False)"
   ]
  },
  {
   "cell_type": "code",
   "execution_count": null,
   "metadata": {},
   "outputs": [],
   "source": []
  }
 ],
 "metadata": {
  "kernelspec": {
   "display_name": "Python 3",
   "language": "python",
   "name": "python3"
  },
  "language_info": {
   "codemirror_mode": {
    "name": "ipython",
    "version": 3
   },
   "file_extension": ".py",
   "mimetype": "text/x-python",
   "name": "python",
   "nbconvert_exporter": "python",
   "pygments_lexer": "ipython3",
   "version": "3.6.5"
  }
 },
 "nbformat": 4,
 "nbformat_minor": 2
}
